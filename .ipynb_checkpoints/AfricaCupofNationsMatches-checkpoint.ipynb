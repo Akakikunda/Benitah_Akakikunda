{
 "cells": [
  {
   "cell_type": "code",
   "execution_count": 1,
   "metadata": {},
   "outputs": [],
   "source": [
    "import pandas as pd\n",
    "\n",
    "# 1. Read the CSV file\n",
    "df = pd.read_csv('AfricaCupofNationsMatches.csv')"
   ]
  },
  {
   "cell_type": "code",
   "execution_count": 2,
   "metadata": {},
   "outputs": [
    {
     "name": "stdout",
     "output_type": "stream",
     "text": [
      "\n",
      "2. First 7 rows:\n",
      "   Year      Date  Time    HomeTeam       AwayTeam  HomeTeamGoals  \\\n",
      "0  1957  10-Feb-57   NaN     Sudan           Egypt            1.0   \n",
      "1  1957  10-Feb-57   NaN  Ethiopia    South Africa            NaN   \n",
      "2  1957  16-Feb-57   NaN     Egypt        Ethiopia            4.0   \n",
      "3  1959  22-May-59   NaN      Egypt       Ethiopia            4.0   \n",
      "4  1959  25-May-59   NaN     Sudan        Ethiopia            1.0   \n",
      "5  1959  29-May-59   NaN      Egypt          Sudan            2.0   \n",
      "6  1962  14-Jan-62   NaN  Ethiopia         Tunisia            4.0   \n",
      "\n",
      "   AwayTeamGoals             Stage  \\\n",
      "0            2.0        Semifinals   \n",
      "1            NaN        Semifinals   \n",
      "2            0.0             Final   \n",
      "3            0.0  Final Tournament   \n",
      "4            0.0  Final Tournament   \n",
      "5            1.0  Final Tournament   \n",
      "6            2.0        Semifinals   \n",
      "\n",
      "                                SpecialWinConditions                 Stadium  \\\n",
      "0                                                NaN       Municipal Stadium   \n",
      "1  Ethiopia  wins due to disqualification of othe...                     NaN   \n",
      "2                                                NaN       Municipal Stadium   \n",
      "3                                                NaN   Prince Farouk Stadium   \n",
      "4                                                NaN   Prince Farouk Stadium   \n",
      "5                                                NaN   Prince Farouk Stadium   \n",
      "6                                                NaN  Hailé Sélassié Stadium   \n",
      "\n",
      "           City  Attendance  \n",
      "0      Khartoum     30000.0  \n",
      "1           NaN         NaN  \n",
      "2      Khartoum     30000.0  \n",
      "3         Cairo     30000.0  \n",
      "4         Cairo     20000.0  \n",
      "5         Cairo     30000.0  \n",
      "6   Addis Ababa     30000.0  \n"
     ]
    }
   ],
   "source": [
    "# 2. Get first 7 rows\n",
    "print(\"\\n2. First 7 rows:\")\n",
    "print(df.head(7))"
   ]
  },
  {
   "cell_type": "code",
   "execution_count": 3,
   "metadata": {},
   "outputs": [
    {
     "name": "stdout",
     "output_type": "stream",
     "text": [
      "\n",
      "3. Selected columns:\n",
      "    HomeTeam       AwayTeam  HomeTeamGoals  AwayTeamGoals\n",
      "0     Sudan           Egypt            1.0            2.0\n",
      "1  Ethiopia    South Africa            NaN            NaN\n",
      "2     Egypt        Ethiopia            4.0            0.0\n",
      "3      Egypt       Ethiopia            4.0            0.0\n",
      "4     Sudan        Ethiopia            1.0            0.0\n"
     ]
    }
   ],
   "source": [
    "# 3. Select specific columns\n",
    "selected_columns = df[['HomeTeam', 'AwayTeam', 'HomeTeamGoals', 'AwayTeamGoals']]\n",
    "print(\"\\n3. Selected columns:\")\n",
    "print(selected_columns.head())"
   ]
  },
  {
   "cell_type": "code",
   "execution_count": 4,
   "metadata": {},
   "outputs": [
    {
     "name": "stdout",
     "output_type": "stream",
     "text": [
      "\n",
      "4. Rows with Egypt:\n",
      "    Year      Date  Time    HomeTeam   AwayTeam  HomeTeamGoals  AwayTeamGoals  \\\n",
      "3   1959  22-May-59   NaN      Egypt   Ethiopia            4.0            0.0   \n",
      "5   1959  29-May-59   NaN      Egypt      Sudan            2.0            1.0   \n",
      "7   1962  18-Jan-62   NaN      Egypt     Uganda            2.0            1.0   \n",
      "9   1962  21-Jan-62   NaN  Ethiopia       Egypt            4.0            2.0   \n",
      "13  1963  24-Nov-63   NaN      Egypt    Nigeria            6.0            3.0   \n",
      "\n",
      "               Stage    SpecialWinConditions                 Stadium  \\\n",
      "3   Final Tournament                     NaN   Prince Farouk Stadium   \n",
      "5   Final Tournament                     NaN   Prince Farouk Stadium   \n",
      "7         Semifinals                     NaN  Hailé Sélassié Stadium   \n",
      "9              Final   win after extra time   Hailé Sélassié Stadium   \n",
      "13           Group B                     NaN   Kumasi Sports Stadium   \n",
      "\n",
      "            City  Attendance  \n",
      "3          Cairo     30000.0  \n",
      "5          Cairo     30000.0  \n",
      "7    Addis Ababa     30000.0  \n",
      "9    Addis Ababa         NaN  \n",
      "13        Kumasi         NaN  \n"
     ]
    }
   ],
   "source": [
    "# 4. Select rows where Egypt appears\n",
    "egypt_matches = df[(df['HomeTeam'] == 'Egypt') | (df['AwayTeam'] == 'Egypt')]\n",
    "print(\"\\n4. Rows with Egypt:\")\n",
    "print(egypt_matches.head())"
   ]
  },
  {
   "cell_type": "code",
   "execution_count": 5,
   "metadata": {},
   "outputs": [
    {
     "name": "stdout",
     "output_type": "stream",
     "text": [
      "\n",
      "5. Number of rows and columns:\n",
      "Rows: 622, Columns: 12\n"
     ]
    }
   ],
   "source": [
    "# 5. Count rows and columns\n",
    "print(\"\\n5. Number of rows and columns:\")\n",
    "print(f\"Rows: {df.shape[0]}, Columns: {df.shape[1]}\")"
   ]
  },
  {
   "cell_type": "code",
   "execution_count": 6,
   "metadata": {},
   "outputs": [
    {
     "name": "stdout",
     "output_type": "stream",
     "text": [
      "\n",
      "6. Rows with missing attendance:\n",
      "    Year      Date  Time    HomeTeam       AwayTeam  HomeTeamGoals  \\\n",
      "1   1957  10-Feb-57   NaN  Ethiopia    South Africa            NaN   \n",
      "8   1962  20-Jan-62   NaN   Tunisia          Uganda            3.0   \n",
      "9   1962  21-Jan-62   NaN  Ethiopia           Egypt            4.0   \n",
      "10  1963  24-Nov-63   NaN     Ghana         Tunisia            1.0   \n",
      "11  1963  26-Nov-63   NaN     Ghana        Ethiopia            2.0   \n",
      "\n",
      "    AwayTeamGoals              Stage  \\\n",
      "1             NaN         Semifinals   \n",
      "8             0.0  Third place match   \n",
      "9             2.0              Final   \n",
      "10            1.0            Group A   \n",
      "11            0.0            Group A   \n",
      "\n",
      "                                 SpecialWinConditions                 Stadium  \\\n",
      "1   Ethiopia  wins due to disqualification of othe...                     NaN   \n",
      "8                                                 NaN  Hailé Sélassié Stadium   \n",
      "9                               win after extra time   Hailé Sélassié Stadium   \n",
      "10                                                NaN    Accra Sports Stadium   \n",
      "11                                                NaN    Accra Sports Stadium   \n",
      "\n",
      "            City  Attendance  \n",
      "1            NaN         NaN  \n",
      "8    Addis Ababa         NaN  \n",
      "9    Addis Ababa         NaN  \n",
      "10         Accra         NaN  \n",
      "11         Accra         NaN  \n"
     ]
    }
   ],
   "source": [
    "# 6. Select rows with missing Attendance\n",
    "missing_attendance = df[df['Attendance'].isna()]\n",
    "print(\"\\n6. Rows with missing attendance:\")\n",
    "print(missing_attendance.head())"
   ]
  },
  {
   "cell_type": "code",
   "execution_count": 7,
   "metadata": {},
   "outputs": [
    {
     "name": "stdout",
     "output_type": "stream",
     "text": [
      "\n",
      "7. Rows with HomeTeamGoals between 3-6:\n",
      "   Year      Date  Time    HomeTeam   AwayTeam  HomeTeamGoals  AwayTeamGoals  \\\n",
      "2  1957  16-Feb-57   NaN     Egypt    Ethiopia            4.0            0.0   \n",
      "3  1959  22-May-59   NaN      Egypt   Ethiopia            4.0            0.0   \n",
      "6  1962  14-Jan-62   NaN  Ethiopia     Tunisia            4.0            2.0   \n",
      "8  1962  20-Jan-62   NaN   Tunisia      Uganda            3.0            0.0   \n",
      "9  1962  21-Jan-62   NaN  Ethiopia       Egypt            4.0            2.0   \n",
      "\n",
      "               Stage    SpecialWinConditions                 Stadium  \\\n",
      "2              Final                     NaN       Municipal Stadium   \n",
      "3   Final Tournament                     NaN   Prince Farouk Stadium   \n",
      "6         Semifinals                     NaN  Hailé Sélassié Stadium   \n",
      "8  Third place match                     NaN  Hailé Sélassié Stadium   \n",
      "9              Final   win after extra time   Hailé Sélassié Stadium   \n",
      "\n",
      "           City  Attendance  \n",
      "2      Khartoum     30000.0  \n",
      "3         Cairo     30000.0  \n",
      "6   Addis Ababa     30000.0  \n",
      "8   Addis Ababa         NaN  \n",
      "9   Addis Ababa         NaN  \n"
     ]
    }
   ],
   "source": [
    "# 7. Select rows where HomeTeamGoals between 3-6\n",
    "goals_range = df[df['HomeTeamGoals'].between(3, 6, inclusive='both')]\n",
    "print(\"\\n7. Rows with HomeTeamGoals between 3-6:\")\n",
    "print(goals_range.head())"
   ]
  },
  {
   "cell_type": "code",
   "execution_count": 8,
   "metadata": {},
   "outputs": [
    {
     "name": "stdout",
     "output_type": "stream",
     "text": [
      "\n",
      "8. Changed 3rd row AwayTeamGoals to 10:\n",
      "   Year      Date  Time  HomeTeam   AwayTeam  HomeTeamGoals  AwayTeamGoals  \\\n",
      "2  1957  16-Feb-57   NaN   Egypt    Ethiopia            4.0           10.0   \n",
      "\n",
      "   Stage SpecialWinConditions            Stadium       City  Attendance  \n",
      "2  Final                  NaN  Municipal Stadium   Khartoum     30000.0  \n"
     ]
    }
   ],
   "source": [
    "# 8. Change AwayTeamGoals in 3rd row to 10\n",
    "df.loc[2, 'AwayTeamGoals'] = 10\n",
    "print(\"\\n8. Changed 3rd row AwayTeamGoals to 10:\")\n",
    "print(df.iloc[2:3])"
   ]
  },
  {
   "cell_type": "code",
   "execution_count": 9,
   "metadata": {},
   "outputs": [
    {
     "name": "stdout",
     "output_type": "stream",
     "text": [
      "\n",
      "9. Sorted DataFrame:\n",
      "     Year      Date  Time   HomeTeam  AwayTeam  HomeTeamGoals  AwayTeamGoals  \\\n",
      "205  1990   2-Mar-90   NaN  Algeria    Nigeria            5.0            1.0   \n",
      "29   1968  14-Jan-68   NaN  Algeria     Uganda            4.0            0.0   \n",
      "135  1980  16-Mar-80   NaN  Algeria     Guinea            3.0            2.0   \n",
      "164  1984   5-Mar-84   NaN  Algeria     Malawi            3.0            0.0   \n",
      "171  1984  17-Mar-84   NaN  Algeria      Egypt            3.0            1.0   \n",
      "\n",
      "                 Stage SpecialWinConditions                       Stadium  \\\n",
      "205            Group A                  NaN          Stade 5 Juillet 1962   \n",
      "29             Group A                  NaN        Hailé Sélassié Stadium   \n",
      "135            Group B                  NaN               Liberty Stadium   \n",
      "164            Group B                  NaN                  Stade Bouaké   \n",
      "171  Third place match                  NaN  Stade Félix Houphouët-Boigny   \n",
      "\n",
      "             City  Attendance  \n",
      "205       Algiers     85000.0  \n",
      "29    Addis Ababa     25000.0  \n",
      "135        Ibadan     20000.0  \n",
      "164        Bouaké     10000.0  \n",
      "171       Abidjan       500.0  \n"
     ]
    }
   ],
   "source": [
    "# 9. Sort DataFrame\n",
    "# Note: Assuming 'HomeTeamScores' should be 'HomeTeamGoals'\n",
    "sorted_df = df.sort_values(by=['HomeTeam', 'HomeTeamGoals'], ascending=[True, False])\n",
    "print(\"\\n9. Sorted DataFrame:\")\n",
    "print(sorted_df.head())"
   ]
  },
  {
   "cell_type": "code",
   "execution_count": 10,
   "metadata": {},
   "outputs": [
    {
     "name": "stdout",
     "output_type": "stream",
     "text": [
      "\n",
      "10. Column headers list:\n",
      "['Year', 'Date ', 'Time ', 'HomeTeam', 'AwayTeam', 'HomeTeamGoals', 'AwayTeamGoals', 'Stage', 'SpecialWinConditions', 'Stadium', 'City', 'Attendance']\n"
     ]
    }
   ],
   "source": [
    "# 10. Get column headers as list\n",
    "columns_list = df.columns.tolist()\n",
    "print(\"\\n10. Column headers list:\")\n",
    "print(columns_list)"
   ]
  },
  {
   "cell_type": "code",
   "execution_count": 11,
   "metadata": {},
   "outputs": [
    {
     "name": "stdout",
     "output_type": "stream",
     "text": [
      "\n",
      "11. Added GoalDifference column:\n",
      "   Year      Date  Time    HomeTeam       AwayTeam  HomeTeamGoals  \\\n",
      "0  1957  10-Feb-57   NaN     Sudan           Egypt            1.0   \n",
      "1  1957  10-Feb-57   NaN  Ethiopia    South Africa            NaN   \n",
      "2  1957  16-Feb-57   NaN     Egypt        Ethiopia            4.0   \n",
      "3  1959  22-May-59   NaN      Egypt       Ethiopia            4.0   \n",
      "4  1959  25-May-59   NaN     Sudan        Ethiopia            1.0   \n",
      "\n",
      "   AwayTeamGoals             Stage  \\\n",
      "0            2.0        Semifinals   \n",
      "1            NaN        Semifinals   \n",
      "2           10.0             Final   \n",
      "3            0.0  Final Tournament   \n",
      "4            0.0  Final Tournament   \n",
      "\n",
      "                                SpecialWinConditions                Stadium  \\\n",
      "0                                                NaN      Municipal Stadium   \n",
      "1  Ethiopia  wins due to disqualification of othe...                    NaN   \n",
      "2                                                NaN      Municipal Stadium   \n",
      "3                                                NaN  Prince Farouk Stadium   \n",
      "4                                                NaN  Prince Farouk Stadium   \n",
      "\n",
      "        City  Attendance  GoalDifference  \n",
      "0   Khartoum     30000.0            -1.0  \n",
      "1        NaN         NaN             NaN  \n",
      "2   Khartoum     30000.0            -6.0  \n",
      "3      Cairo     30000.0             4.0  \n",
      "4      Cairo     20000.0             1.0  \n"
     ]
    }
   ],
   "source": [
    "# 11. Append a new column\n",
    "df['GoalDifference'] = df['HomeTeamGoals'] - df['AwayTeamGoals']\n",
    "print(\"\\n11. Added GoalDifference column:\")\n",
    "print(df.head())"
   ]
  },
  {
   "cell_type": "code",
   "execution_count": 12,
   "metadata": {},
   "outputs": [
    {
     "name": "stdout",
     "output_type": "stream",
     "text": [
      "\n",
      "12. Added 2 new rows (last 2 rows):\n",
      "     Year Date  Time  HomeTeam AwayTeam  HomeTeamGoals  AwayTeamGoals  \\\n",
      "622  2021   NaN   NaN  Senegal    Egypt            1.0            0.0   \n",
      "623  2021   NaN   NaN  Morocco    Ghana            2.0            1.0   \n",
      "\n",
      "          Stage SpecialWinConditions          Stadium        City  Attendance  \\\n",
      "622       Final                 None  Stade Olympique     Yaoundé     48000.0   \n",
      "623  Semifinals                 None  Stade Mohamed V  Casablanca     65000.0   \n",
      "\n",
      "     GoalDifference       Date   Time  \n",
      "622             1.0  10-Jan-21  20:00  \n",
      "623             1.0  11-Jan-21  17:00  \n"
     ]
    }
   ],
   "source": [
    "# 12. Add 2 new rows\n",
    "new_rows = pd.DataFrame({\n",
    "    'Year': [2021, 2021],\n",
    "    'Date': ['10-Jan-21', '11-Jan-21'],\n",
    "    'Time': ['20:00', '17:00'],\n",
    "    'HomeTeam': ['Senegal', 'Morocco'],\n",
    "    'AwayTeam': ['Egypt', 'Ghana'],\n",
    "    'HomeTeamGoals': [1, 2],\n",
    "    'AwayTeamGoals': [0, 1],\n",
    "    'Stage': ['Final', 'Semifinals'],\n",
    "    'SpecialWinConditions': [None, None],\n",
    "    'Stadium': ['Stade Olympique', 'Stade Mohamed V'],\n",
    "    'City': ['Yaoundé', 'Casablanca'],\n",
    "    'Attendance': [48000, 65000],\n",
    "    'GoalDifference': [1, 1]\n",
    "})\n",
    "df = pd.concat([df, new_rows], ignore_index=True)\n",
    "print(\"\\n12. Added 2 new rows (last 2 rows):\")\n",
    "print(df.tail(2))"
   ]
  },
  {
   "cell_type": "code",
   "execution_count": 13,
   "metadata": {},
   "outputs": [
    {
     "name": "stdout",
     "output_type": "stream",
     "text": [
      "\n",
      "13. Changed Uganda to China in AwayTeam:\n",
      "Empty DataFrame\n",
      "Columns: [Year, Date , Time , HomeTeam, AwayTeam, HomeTeamGoals, AwayTeamGoals, Stage, SpecialWinConditions, Stadium, City, Attendance, GoalDifference, Date, Time]\n",
      "Index: []\n"
     ]
    }
   ],
   "source": [
    "# 13. Change 'Uganda' to 'China' in AwayTeam\n",
    "df['AwayTeam'] = df['AwayTeam'].replace('Uganda', 'China')\n",
    "print(\"\\n13. Changed Uganda to China in AwayTeam:\")\n",
    "print(df[df['AwayTeam'] == 'China'].head())"
   ]
  },
  {
   "cell_type": "code",
   "execution_count": 14,
   "metadata": {},
   "outputs": [
    {
     "name": "stdout",
     "output_type": "stream",
     "text": [
      "\n",
      "14. DataFrame with reset index:\n",
      "   Year      Date  Time    HomeTeam       AwayTeam  HomeTeamGoals  \\\n",
      "0  1957  10-Feb-57   NaN     Sudan           Egypt            1.0   \n",
      "1  1957  10-Feb-57   NaN  Ethiopia    South Africa            NaN   \n",
      "2  1957  16-Feb-57   NaN     Egypt        Ethiopia            4.0   \n",
      "3  1959  22-May-59   NaN      Egypt       Ethiopia            4.0   \n",
      "4  1959  25-May-59   NaN     Sudan        Ethiopia            1.0   \n",
      "\n",
      "   AwayTeamGoals             Stage  \\\n",
      "0            2.0        Semifinals   \n",
      "1            NaN        Semifinals   \n",
      "2           10.0             Final   \n",
      "3            0.0  Final Tournament   \n",
      "4            0.0  Final Tournament   \n",
      "\n",
      "                                SpecialWinConditions                Stadium  \\\n",
      "0                                                NaN      Municipal Stadium   \n",
      "1  Ethiopia  wins due to disqualification of othe...                    NaN   \n",
      "2                                                NaN      Municipal Stadium   \n",
      "3                                                NaN  Prince Farouk Stadium   \n",
      "4                                                NaN  Prince Farouk Stadium   \n",
      "\n",
      "        City  Attendance  GoalDifference Date Time  \n",
      "0   Khartoum     30000.0            -1.0  NaN  NaN  \n",
      "1        NaN         NaN             NaN  NaN  NaN  \n",
      "2   Khartoum     30000.0            -6.0  NaN  NaN  \n",
      "3      Cairo     30000.0             4.0  NaN  NaN  \n",
      "4      Cairo     20000.0             1.0  NaN  NaN  \n"
     ]
    }
   ],
   "source": [
    "# 14. Reset index\n",
    "df_reset = df.reset_index(drop=True)\n",
    "print(\"\\n14. DataFrame with reset index:\")\n",
    "print(df_reset.head())"
   ]
  },
  {
   "cell_type": "code",
   "execution_count": 15,
   "metadata": {},
   "outputs": [
    {
     "name": "stdout",
     "output_type": "stream",
     "text": [
      "\n",
      "15. 'Stadium' column exists:\n",
      "True\n"
     ]
    }
   ],
   "source": [
    "# 15. Check if 'Stadium' column exists\n",
    "has_stadium = 'Stadium' in df.columns\n",
    "print(\"\\n15. 'Stadium' column exists:\")\n",
    "print(has_stadium)"
   ]
  },
  {
   "cell_type": "code",
   "execution_count": 16,
   "metadata": {},
   "outputs": [
    {
     "name": "stdout",
     "output_type": "stream",
     "text": [
      "\n",
      "16. AwayTeamGoals dtype after conversion:\n",
      "float64\n"
     ]
    }
   ],
   "source": [
    "# 16. Convert AwayTeamGoals to float\n",
    "df['AwayTeamGoals'] = df['AwayTeamGoals'].astype(float)\n",
    "print(\"\\n16. AwayTeamGoals dtype after conversion:\")\n",
    "print(df['AwayTeamGoals'].dtype)"
   ]
  },
  {
   "cell_type": "code",
   "execution_count": 17,
   "metadata": {},
   "outputs": [
    {
     "name": "stdout",
     "output_type": "stream",
     "text": [
      "\n",
      "17. DataFrame after removing last 10 rows (new shape):\n",
      "(614, 15)\n"
     ]
    }
   ],
   "source": [
    "# 17. Remove last 10 rows\n",
    "df_trimmed = df.iloc[:-10]\n",
    "print(\"\\n17. DataFrame after removing last 10 rows (new shape):\")\n",
    "print(df_trimmed.shape)"
   ]
  },
  {
   "cell_type": "code",
   "execution_count": 18,
   "metadata": {},
   "outputs": [
    {
     "name": "stdout",
     "output_type": "stream",
     "text": [
      "\n",
      "18. First 3 rows when iterating:\n",
      "Row 0: Sudan  vs  Egypt\n",
      "Row 1: Ethiopia  vs  South Africa\n",
      "Row 2: Egypt  vs  Ethiopia\n"
     ]
    }
   ],
   "source": [
    "# 18. Iterate over rows\n",
    "print(\"\\n18. First 3 rows when iterating:\")\n",
    "for index, row in df.head(3).iterrows():\n",
    "    print(f\"Row {index}: {row['HomeTeam']} vs {row['AwayTeam']}\")"
   ]
  },
  {
   "cell_type": "code",
   "execution_count": 19,
   "metadata": {},
   "outputs": [
    {
     "name": "stdout",
     "output_type": "stream",
     "text": [
      "\n",
      "19. DataFrame with reordered columns:\n",
      "   Year Date Time   HomeTeam       AwayTeam  HomeTeamGoals  AwayTeamGoals  \\\n",
      "0  1957  NaN  NaN     Sudan           Egypt            1.0            2.0   \n",
      "1  1957  NaN  NaN  Ethiopia    South Africa            NaN            NaN   \n",
      "2  1957  NaN  NaN     Egypt        Ethiopia            4.0           10.0   \n",
      "3  1959  NaN  NaN      Egypt       Ethiopia            4.0            0.0   \n",
      "4  1959  NaN  NaN     Sudan        Ethiopia            1.0            0.0   \n",
      "\n",
      "   GoalDifference             Stage  \\\n",
      "0            -1.0        Semifinals   \n",
      "1             NaN        Semifinals   \n",
      "2            -6.0             Final   \n",
      "3             4.0  Final Tournament   \n",
      "4             1.0  Final Tournament   \n",
      "\n",
      "                                SpecialWinConditions                Stadium  \\\n",
      "0                                                NaN      Municipal Stadium   \n",
      "1  Ethiopia  wins due to disqualification of othe...                    NaN   \n",
      "2                                                NaN      Municipal Stadium   \n",
      "3                                                NaN  Prince Farouk Stadium   \n",
      "4                                                NaN  Prince Farouk Stadium   \n",
      "\n",
      "        City  Attendance  \n",
      "0   Khartoum     30000.0  \n",
      "1        NaN         NaN  \n",
      "2   Khartoum     30000.0  \n",
      "3      Cairo     30000.0  \n",
      "4      Cairo     20000.0  \n"
     ]
    }
   ],
   "source": [
    "# 19. Change column order\n",
    "new_order = ['Year', 'Date', 'Time', 'HomeTeam', 'AwayTeam', 'HomeTeamGoals', \n",
    "             'AwayTeamGoals', 'GoalDifference', 'Stage', 'SpecialWinConditions', \n",
    "             'Stadium', 'City', 'Attendance']\n",
    "df_reordered = df[new_order]\n",
    "print(\"\\n19. DataFrame with reordered columns:\")\n",
    "print(df_reordered.head())"
   ]
  },
  {
   "cell_type": "code",
   "execution_count": 20,
   "metadata": {
    "vscode": {
     "languageId": "plaintext"
    }
   },
   "outputs": [
    {
     "name": "stdout",
     "output_type": "stream",
     "text": [
      "\n",
      "20. DataFrame after removing rows with HomeTeamGoals=0 (new shape):\n",
      "(496, 15)\n"
     ]
    }
   ],
   "source": [
    "# 20. Delete rows where HomeTeamGoals is 0\n",
    "df_filtered = df[df['HomeTeamGoals'] != 0]\n",
    "print(\"\\n20. DataFrame after removing rows with HomeTeamGoals=0 (new shape):\")\n",
    "print(df_filtered.shape)"
   ]
  }
 ],
 "metadata": {
  "kernelspec": {
   "display_name": "Python 3 (ipykernel)",
   "language": "python",
   "name": "python3"
  },
  "language_info": {
   "codemirror_mode": {
    "name": "ipython",
    "version": 3
   },
   "file_extension": ".py",
   "mimetype": "text/x-python",
   "name": "python",
   "nbconvert_exporter": "python",
   "pygments_lexer": "ipython3",
   "version": "3.12.9"
  }
 },
 "nbformat": 4,
 "nbformat_minor": 4
}
